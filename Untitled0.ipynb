{
  "nbformat": 4,
  "nbformat_minor": 0,
  "metadata": {
    "colab": {
      "provenance": [],
      "authorship_tag": "ABX9TyMYI/uu93ncoL9CnhaLprky",
      "include_colab_link": true
    },
    "kernelspec": {
      "name": "python3",
      "display_name": "Python 3"
    },
    "language_info": {
      "name": "python"
    }
  },
  "cells": [
    {
      "cell_type": "markdown",
      "metadata": {
        "id": "view-in-github",
        "colab_type": "text"
      },
      "source": [
        "<a href=\"https://colab.research.google.com/github/tlalli/hi-world/blob/tlalli-patch-1/Untitled0.ipynb\" target=\"_parent\"><img src=\"https://colab.research.google.com/assets/colab-badge.svg\" alt=\"Open In Colab\"/></a>"
      ]
    },
    {
      "cell_type": "code",
      "execution_count": 1,
      "metadata": {
        "id": "kUMCWvG9nM51",
        "outputId": "36db0b93-a4f8-48fc-d715-4fae1ae18c81",
        "colab": {
          "base_uri": "https://localhost:8080/"
        }
      },
      "outputs": [
        {
          "output_type": "stream",
          "name": "stdout",
          "text": [
            "hola mundo\n"
          ]
        }
      ],
      "source": [
        "print('hola mundo')"
      ]
    },
    {
      "cell_type": "code",
      "source": [
        "num1 = int(input('Dame el primer número'))\n",
        "num2 = int(input('Dame el segundo número'))\n",
        "d = num1/num2\n",
        "print(d)\n",
        "if d == 0: \n",
        "  print('ERROR!!')\n",
        "else: print('Sin error')"
      ],
      "metadata": {
        "colab": {
          "base_uri": "https://localhost:8080/"
        },
        "id": "WiDl2CTetfdK",
        "outputId": "70e038b4-87eb-4d02-b2ec-21cab825b792"
      },
      "execution_count": 7,
      "outputs": [
        {
          "output_type": "stream",
          "name": "stdout",
          "text": [
            "Dame el primer número6\n",
            "Dame el segundo número6\n",
            "1.0\n",
            "Sin error\n"
          ]
        }
      ]
    },
    {
      "cell_type": "code",
      "source": [
        "nom = input('Cual es tu nombre: ')\n",
        "print('Hola,',nom)\n",
        "pizza = input('Que pizza deseas: vegetariana o tradicoinal')\n",
        "if pizza == 'vegetariana':\n",
        "  ingredientes = input('Qué ingredientes deseas?')\n",
        "  if ingredientes == 'pimiento':\n",
        "    print('tu pizza es vegetariana con pimiento')\n",
        "  else: \n",
        "    print ('tu pizza es vegetariana con tofu')\n",
        "else:\n",
        "    ingredientes = input('que ingredientes deseas?')\n",
        "    if ingredientes == 'jamon':\n",
        "      print ('tu pizza es tradicional con jamon')\n",
        "    else: \n",
        "      if ingredientes == 'peperonni':\n",
        "        print ('tu pizza es tradicoinal con peperonni') \n",
        "      else: \n",
        "        print ('tu piza es tradicoinal con Salmón')     \n"
      ],
      "metadata": {
        "id": "yeulz3W5wWzz",
        "outputId": "efe46802-4106-496b-89d4-2208e830acca",
        "colab": {
          "base_uri": "https://localhost:8080/"
        }
      },
      "execution_count": 12,
      "outputs": [
        {
          "output_type": "stream",
          "name": "stdout",
          "text": [
            "Cual es tu nombre: humbrto\n",
            "Hola, humbrto\n",
            "Que pizza deseas: vegetariana o tradicoinalvegetariana\n",
            "Qué ingredientes deseas?pimiento\n",
            "tu pizza es vegetariana con pimiento\n"
          ]
        }
      ]
    }
  ]
}