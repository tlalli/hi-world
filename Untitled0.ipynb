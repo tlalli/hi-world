{
  "nbformat": 4,
  "nbformat_minor": 0,
  "metadata": {
    "colab": {
      "provenance": [],
      "authorship_tag": "ABX9TyNBPms7fN7kh8bdcchxZB81",
      "include_colab_link": true
    },
    "kernelspec": {
      "name": "python3",
      "display_name": "Python 3"
    },
    "language_info": {
      "name": "python"
    }
  },
  "cells": [
    {
      "cell_type": "markdown",
      "metadata": {
        "id": "view-in-github",
        "colab_type": "text"
      },
      "source": [
        "<a href=\"https://colab.research.google.com/github/tlalli/hi-world/blob/tlalli-patch-1/Untitled0.ipynb\" target=\"_parent\"><img src=\"https://colab.research.google.com/assets/colab-badge.svg\" alt=\"Open In Colab\"/></a>"
      ]
    },
    {
      "cell_type": "code",
      "execution_count": 1,
      "metadata": {
        "id": "kUMCWvG9nM51",
        "outputId": "36db0b93-a4f8-48fc-d715-4fae1ae18c81",
        "colab": {
          "base_uri": "https://localhost:8080/"
        }
      },
      "outputs": [
        {
          "output_type": "stream",
          "name": "stdout",
          "text": [
            "hola mundo\n"
          ]
        }
      ],
      "source": [
        "print('hola mundo')"
      ]
    },
    {
      "cell_type": "code",
      "source": [
        "num1 = int(input('Dame el primer número'))\n",
        "num2 = int(input('Dame el segundo número'))\n",
        "d = num1/num2\n",
        "print(d)\n",
        "if d == 0: \n",
        "  print('ERROR!!')\n",
        "else: print('Sin error')"
      ],
      "metadata": {
        "id": "WiDl2CTetfdK"
      },
      "execution_count": null,
      "outputs": []
    }
  ]
}